{
 "cells": [
  {
   "cell_type": "markdown",
   "id": "22ae308e-8028-47e9-b4d0-de30eb6d9bd7",
   "metadata": {},
   "source": [
    "This is an exploratory study to check the possibilities to identify phishing, malware or defaced pages only looking at the URL string."
   ]
  },
  {
   "cell_type": "code",
   "execution_count": 1,
   "id": "0311515a-8b17-459a-87f4-0e3d37be0d5e",
   "metadata": {},
   "outputs": [],
   "source": [
    "import numpy as np\n",
    "import pandas as pd\n",
    "import matplotlib.pyplot as plt\n",
    "import seaborn as sns"
   ]
  },
  {
   "cell_type": "code",
   "execution_count": 2,
   "id": "834b06d7-ba30-4080-9b3a-7382bd202f11",
   "metadata": {},
   "outputs": [],
   "source": [
    "#------- READING THE DATA -------\n",
    "data = pd.read_csv('malicious_phish.csv')\n",
    "#https://www.kaggle.com/sid321axn/malicious-urls-dataset"
   ]
  },
  {
   "cell_type": "markdown",
   "id": "c5d2849c-36bc-4a39-8e44-71e299e66e48",
   "metadata": {},
   "source": [
    "The data was obtained from kaggle: https://www.kaggle.com/sid321axn/malicious-urls-dataset"
   ]
  },
  {
   "cell_type": "code",
   "execution_count": 3,
   "id": "b754064b-297b-481f-8bcd-cb007dc26a86",
   "metadata": {},
   "outputs": [
    {
     "data": {
      "text/html": [
       "<div>\n",
       "<style scoped>\n",
       "    .dataframe tbody tr th:only-of-type {\n",
       "        vertical-align: middle;\n",
       "    }\n",
       "\n",
       "    .dataframe tbody tr th {\n",
       "        vertical-align: top;\n",
       "    }\n",
       "\n",
       "    .dataframe thead th {\n",
       "        text-align: right;\n",
       "    }\n",
       "</style>\n",
       "<table border=\"1\" class=\"dataframe\">\n",
       "  <thead>\n",
       "    <tr style=\"text-align: right;\">\n",
       "      <th></th>\n",
       "      <th>url</th>\n",
       "      <th>type</th>\n",
       "    </tr>\n",
       "  </thead>\n",
       "  <tbody>\n",
       "    <tr>\n",
       "      <th>0</th>\n",
       "      <td>br-icloud.com.br</td>\n",
       "      <td>phishing</td>\n",
       "    </tr>\n",
       "    <tr>\n",
       "      <th>1</th>\n",
       "      <td>mp3raid.com/music/krizz_kaliko.html</td>\n",
       "      <td>benign</td>\n",
       "    </tr>\n",
       "    <tr>\n",
       "      <th>2</th>\n",
       "      <td>bopsecrets.org/rexroth/cr/1.htm</td>\n",
       "      <td>benign</td>\n",
       "    </tr>\n",
       "    <tr>\n",
       "      <th>3</th>\n",
       "      <td>http://www.garage-pirenne.be/index.php?option=...</td>\n",
       "      <td>defacement</td>\n",
       "    </tr>\n",
       "    <tr>\n",
       "      <th>4</th>\n",
       "      <td>http://adventure-nicaragua.net/index.php?optio...</td>\n",
       "      <td>defacement</td>\n",
       "    </tr>\n",
       "  </tbody>\n",
       "</table>\n",
       "</div>"
      ],
      "text/plain": [
       "                                                 url        type\n",
       "0                                   br-icloud.com.br    phishing\n",
       "1                mp3raid.com/music/krizz_kaliko.html      benign\n",
       "2                    bopsecrets.org/rexroth/cr/1.htm      benign\n",
       "3  http://www.garage-pirenne.be/index.php?option=...  defacement\n",
       "4  http://adventure-nicaragua.net/index.php?optio...  defacement"
      ]
     },
     "execution_count": 3,
     "metadata": {},
     "output_type": "execute_result"
    }
   ],
   "source": [
    "data.head()"
   ]
  },
  {
   "cell_type": "markdown",
   "id": "5ec8d63b-3c84-45b3-a57e-eac56c31ea23",
   "metadata": {},
   "source": [
    "The data has only 2 columns, the url string and the type of the page, which can be:"
   ]
  },
  {
   "cell_type": "code",
   "execution_count": 4,
   "id": "70c327e1-941d-4ce6-aa5c-d4b5cee8ced0",
   "metadata": {},
   "outputs": [
    {
     "data": {
      "text/plain": [
       "benign        428103\n",
       "defacement     96457\n",
       "phishing       94111\n",
       "malware        32520\n",
       "Name: type, dtype: int64"
      ]
     },
     "execution_count": 4,
     "metadata": {},
     "output_type": "execute_result"
    }
   ],
   "source": [
    "data['type'].value_counts()"
   ]
  },
  {
   "cell_type": "markdown",
   "id": "ab0184ea-c4e1-4c03-a576-82fdd999ed05",
   "metadata": {},
   "source": [
    "So we have a data set with 4 classes of pages. What we can try to do is look at the characteristics of each URL and check if there are similar patterns within the classes. One of the characteristic of URLs that we could take a look is the lenght of the URL."
   ]
  },
  {
   "cell_type": "code",
   "execution_count": 5,
   "id": "906b1a12-ff4c-468e-aac4-d256e682411a",
   "metadata": {},
   "outputs": [],
   "source": [
    "data['urlLen'] = data['url'].apply(lambda x: len(x))"
   ]
  },
  {
   "cell_type": "code",
   "execution_count": 6,
   "id": "4a3a4c75-f0db-483d-91cb-bc89d77ae103",
   "metadata": {},
   "outputs": [
    {
     "data": {
      "text/plain": [
       "31      19023\n",
       "33      14209\n",
       "34      12243\n",
       "27      11967\n",
       "35      11700\n",
       "        ...  \n",
       "710         1\n",
       "1016        1\n",
       "452         1\n",
       "1779        1\n",
       "467         1\n",
       "Name: urlLen, Length: 549, dtype: int64"
      ]
     },
     "execution_count": 6,
     "metadata": {},
     "output_type": "execute_result"
    }
   ],
   "source": [
    "data['urlLen'].value_counts()"
   ]
  },
  {
   "cell_type": "markdown",
   "id": "41d2dd44-74f6-4d81-8c74-e5ff5bbcaaf2",
   "metadata": {},
   "source": [
    "There are some length outliers that we should explore, let's take a look at these huge strings"
   ]
  },
  {
   "cell_type": "code",
   "execution_count": 9,
   "id": "1ccb5370-6df2-4e8e-9c05-c71f80ab8c95",
   "metadata": {},
   "outputs": [
    {
     "data": {
      "text/html": [
       "<div>\n",
       "<style scoped>\n",
       "    .dataframe tbody tr th:only-of-type {\n",
       "        vertical-align: middle;\n",
       "    }\n",
       "\n",
       "    .dataframe tbody tr th {\n",
       "        vertical-align: top;\n",
       "    }\n",
       "\n",
       "    .dataframe thead th {\n",
       "        text-align: right;\n",
       "    }\n",
       "</style>\n",
       "<table border=\"1\" class=\"dataframe\">\n",
       "  <thead>\n",
       "    <tr style=\"text-align: right;\">\n",
       "      <th></th>\n",
       "      <th>url</th>\n",
       "      <th>type</th>\n",
       "      <th>urlLen</th>\n",
       "    </tr>\n",
       "  </thead>\n",
       "  <tbody>\n",
       "    <tr>\n",
       "      <th>44224</th>\n",
       "      <td>https://lastpass.com/signup2.php?ac=1&amp;from_uri...</td>\n",
       "      <td>benign</td>\n",
       "      <td>1517</td>\n",
       "    </tr>\n",
       "    <tr>\n",
       "      <th>62378</th>\n",
       "      <td>https://lastpass.com/signup2.php?ac=1&amp;from_uri...</td>\n",
       "      <td>benign</td>\n",
       "      <td>1189</td>\n",
       "    </tr>\n",
       "    <tr>\n",
       "      <th>105506</th>\n",
       "      <td>apps.facebook.com/ajax/emu/end.php?eid=AQLKVXC...</td>\n",
       "      <td>benign</td>\n",
       "      <td>1025</td>\n",
       "    </tr>\n",
       "    <tr>\n",
       "      <th>199338</th>\n",
       "      <td>https://lastpass.com/signup2.php?ac=1&amp;from_uri...</td>\n",
       "      <td>benign</td>\n",
       "      <td>1348</td>\n",
       "    </tr>\n",
       "    <tr>\n",
       "      <th>293888</th>\n",
       "      <td>https://lastpass.com/signup2.php?ac=1&amp;from_uri...</td>\n",
       "      <td>benign</td>\n",
       "      <td>1040</td>\n",
       "    </tr>\n",
       "    <tr>\n",
       "      <th>337711</th>\n",
       "      <td>https://lastpass.com/signup2.php?ac=1&amp;from_uri...</td>\n",
       "      <td>benign</td>\n",
       "      <td>1696</td>\n",
       "    </tr>\n",
       "    <tr>\n",
       "      <th>457891</th>\n",
       "      <td>https://asana.com/guide/videos/%22//fast.wisti...</td>\n",
       "      <td>benign</td>\n",
       "      <td>2081</td>\n",
       "    </tr>\n",
       "    <tr>\n",
       "      <th>522782</th>\n",
       "      <td>https://nkfmwefiofjwefiwofjweiofwmejfowejfowfw...</td>\n",
       "      <td>phishing</td>\n",
       "      <td>1779</td>\n",
       "    </tr>\n",
       "    <tr>\n",
       "      <th>523440</th>\n",
       "      <td>http://integrityozonesolutions.com/chase/Chase...</td>\n",
       "      <td>phishing</td>\n",
       "      <td>1016</td>\n",
       "    </tr>\n",
       "    <tr>\n",
       "      <th>524316</th>\n",
       "      <td>http://licogi18.com.vn/login.microsoftonline.c...</td>\n",
       "      <td>phishing</td>\n",
       "      <td>1386</td>\n",
       "    </tr>\n",
       "    <tr>\n",
       "      <th>527949</th>\n",
       "      <td>https://dev.seatassignmate.net/latam/payment_o...</td>\n",
       "      <td>phishing</td>\n",
       "      <td>1641</td>\n",
       "    </tr>\n",
       "    <tr>\n",
       "      <th>528379</th>\n",
       "      <td>http://193.35.48.23/0787631061/?u=y2ykaew&amp;amp;...</td>\n",
       "      <td>phishing</td>\n",
       "      <td>1535</td>\n",
       "    </tr>\n",
       "    <tr>\n",
       "      <th>529801</th>\n",
       "      <td>https://storage.googleapis.com/aoffice365-sher...</td>\n",
       "      <td>phishing</td>\n",
       "      <td>1316</td>\n",
       "    </tr>\n",
       "    <tr>\n",
       "      <th>529802</th>\n",
       "      <td>https://storage.googleapis.com/aoffice365-sher...</td>\n",
       "      <td>phishing</td>\n",
       "      <td>1325</td>\n",
       "    </tr>\n",
       "    <tr>\n",
       "      <th>531189</th>\n",
       "      <td>http://glamourphotopodcast.com/wp-content/medi...</td>\n",
       "      <td>phishing</td>\n",
       "      <td>1038</td>\n",
       "    </tr>\n",
       "    <tr>\n",
       "      <th>531422</th>\n",
       "      <td>http://licogi18.com.vn/login.microsoftonline.c...</td>\n",
       "      <td>phishing</td>\n",
       "      <td>1386</td>\n",
       "    </tr>\n",
       "    <tr>\n",
       "      <th>562394</th>\n",
       "      <td>'mail.sify.com/googleapps/process_response.php...</td>\n",
       "      <td>benign</td>\n",
       "      <td>1075</td>\n",
       "    </tr>\n",
       "    <tr>\n",
       "      <th>562642</th>\n",
       "      <td>'mail.sify.com/googleapps/process_response.php...</td>\n",
       "      <td>benign</td>\n",
       "      <td>1076</td>\n",
       "    </tr>\n",
       "    <tr>\n",
       "      <th>566479</th>\n",
       "      <td>'mail.sify.com/googleapps/process_response.php...</td>\n",
       "      <td>benign</td>\n",
       "      <td>1158</td>\n",
       "    </tr>\n",
       "    <tr>\n",
       "      <th>566485</th>\n",
       "      <td>'mail.sify.com/googleapps/process_response.php...</td>\n",
       "      <td>benign</td>\n",
       "      <td>1078</td>\n",
       "    </tr>\n",
       "    <tr>\n",
       "      <th>579857</th>\n",
       "      <td>peekaboopoles.co.uk/holding/payza.com/accounts...</td>\n",
       "      <td>benign</td>\n",
       "      <td>2175</td>\n",
       "    </tr>\n",
       "    <tr>\n",
       "      <th>581328</th>\n",
       "      <td>'mail.sify.com/googleapps/process_response.php...</td>\n",
       "      <td>benign</td>\n",
       "      <td>1081</td>\n",
       "    </tr>\n",
       "    <tr>\n",
       "      <th>581701</th>\n",
       "      <td>'mail.sify.com/googleapps/process_response.php...</td>\n",
       "      <td>benign</td>\n",
       "      <td>1060</td>\n",
       "    </tr>\n",
       "    <tr>\n",
       "      <th>581916</th>\n",
       "      <td>'mail.sify.com/googleapps/process_response.php...</td>\n",
       "      <td>benign</td>\n",
       "      <td>1081</td>\n",
       "    </tr>\n",
       "  </tbody>\n",
       "</table>\n",
       "</div>"
      ],
      "text/plain": [
       "                                                      url      type  urlLen\n",
       "44224   https://lastpass.com/signup2.php?ac=1&from_uri...    benign    1517\n",
       "62378   https://lastpass.com/signup2.php?ac=1&from_uri...    benign    1189\n",
       "105506  apps.facebook.com/ajax/emu/end.php?eid=AQLKVXC...    benign    1025\n",
       "199338  https://lastpass.com/signup2.php?ac=1&from_uri...    benign    1348\n",
       "293888  https://lastpass.com/signup2.php?ac=1&from_uri...    benign    1040\n",
       "337711  https://lastpass.com/signup2.php?ac=1&from_uri...    benign    1696\n",
       "457891  https://asana.com/guide/videos/%22//fast.wisti...    benign    2081\n",
       "522782  https://nkfmwefiofjwefiwofjweiofwmejfowejfowfw...  phishing    1779\n",
       "523440  http://integrityozonesolutions.com/chase/Chase...  phishing    1016\n",
       "524316  http://licogi18.com.vn/login.microsoftonline.c...  phishing    1386\n",
       "527949  https://dev.seatassignmate.net/latam/payment_o...  phishing    1641\n",
       "528379  http://193.35.48.23/0787631061/?u=y2ykaew&amp;...  phishing    1535\n",
       "529801  https://storage.googleapis.com/aoffice365-sher...  phishing    1316\n",
       "529802  https://storage.googleapis.com/aoffice365-sher...  phishing    1325\n",
       "531189  http://glamourphotopodcast.com/wp-content/medi...  phishing    1038\n",
       "531422  http://licogi18.com.vn/login.microsoftonline.c...  phishing    1386\n",
       "562394  'mail.sify.com/googleapps/process_response.php...    benign    1075\n",
       "562642  'mail.sify.com/googleapps/process_response.php...    benign    1076\n",
       "566479  'mail.sify.com/googleapps/process_response.php...    benign    1158\n",
       "566485  'mail.sify.com/googleapps/process_response.php...    benign    1078\n",
       "579857  peekaboopoles.co.uk/holding/payza.com/accounts...    benign    2175\n",
       "581328  'mail.sify.com/googleapps/process_response.php...    benign    1081\n",
       "581701  'mail.sify.com/googleapps/process_response.php...    benign    1060\n",
       "581916  'mail.sify.com/googleapps/process_response.php...    benign    1081"
      ]
     },
     "execution_count": 9,
     "metadata": {},
     "output_type": "execute_result"
    }
   ],
   "source": [
    "data[data['urlLen'] > 1000]"
   ]
  },
  {
   "cell_type": "markdown",
   "id": "76083685-33a3-4361-ac4d-fb2552ec42f2",
   "metadata": {},
   "source": [
    "Although very long strings, they are not problematic URLs. 15 of them are benign and 7 are phishing. The smaller ones between 500-1000 letters are also good to go. What about the smaller?"
   ]
  },
  {
   "cell_type": "code",
   "execution_count": 13,
   "id": "cce84edb-da11-4386-a5a4-a1a0eb45e465",
   "metadata": {},
   "outputs": [
    {
     "data": {
      "text/html": [
       "<div>\n",
       "<style scoped>\n",
       "    .dataframe tbody tr th:only-of-type {\n",
       "        vertical-align: middle;\n",
       "    }\n",
       "\n",
       "    .dataframe tbody tr th {\n",
       "        vertical-align: top;\n",
       "    }\n",
       "\n",
       "    .dataframe thead th {\n",
       "        text-align: right;\n",
       "    }\n",
       "</style>\n",
       "<table border=\"1\" class=\"dataframe\">\n",
       "  <thead>\n",
       "    <tr style=\"text-align: right;\">\n",
       "      <th></th>\n",
       "      <th>url</th>\n",
       "      <th>type</th>\n",
       "      <th>urlLen</th>\n",
       "    </tr>\n",
       "  </thead>\n",
       "  <tbody>\n",
       "    <tr>\n",
       "      <th>374391</th>\n",
       "      <td>1b.yt</td>\n",
       "      <td>phishing</td>\n",
       "      <td>5</td>\n",
       "    </tr>\n",
       "    <tr>\n",
       "      <th>573423</th>\n",
       "      <td>¾5092</td>\n",
       "      <td>phishing</td>\n",
       "      <td>5</td>\n",
       "    </tr>\n",
       "    <tr>\n",
       "      <th>573437</th>\n",
       "      <td></td>\n",
       "      <td>phishing</td>\n",
       "      <td>1</td>\n",
       "    </tr>\n",
       "    <tr>\n",
       "      <th>573446</th>\n",
       "      <td>½\u00134+</td>\n",
       "      <td>phishing</td>\n",
       "      <td>4</td>\n",
       "    </tr>\n",
       "    <tr>\n",
       "      <th>573449</th>\n",
       "      <td>=\u001aÂ-</td>\n",
       "      <td>phishing</td>\n",
       "      <td>5</td>\n",
       "    </tr>\n",
       "    <tr>\n",
       "      <th>573468</th>\n",
       "      <td>ºE</td>\n",
       "      <td>phishing</td>\n",
       "      <td>2</td>\n",
       "    </tr>\n",
       "    <tr>\n",
       "      <th>573471</th>\n",
       "      <td>WY</td>\n",
       "      <td>phishing</td>\n",
       "      <td>2</td>\n",
       "    </tr>\n",
       "    <tr>\n",
       "      <th>573485</th>\n",
       "      <td>\u0007)-</td>\n",
       "      <td>phishing</td>\n",
       "      <td>5</td>\n",
       "    </tr>\n",
       "  </tbody>\n",
       "</table>\n",
       "</div>"
      ],
      "text/plain": [
       "          url      type  urlLen\n",
       "374391  1b.yt  phishing       5\n",
       "573423  ¾5092  phishing       5\n",
       "573437        phishing       1\n",
       "573446   ½\u00134+  phishing       4\n",
       "573449  =\u001aÂ-  phishing       5\n",
       "573468     ºE  phishing       2\n",
       "573471     WY  phishing       2\n",
       "573485  \u0007)-  phishing       5"
      ]
     },
     "execution_count": 13,
     "metadata": {},
     "output_type": "execute_result"
    }
   ],
   "source": [
    "data[data['urlLen'] < 6]"
   ]
  },
  {
   "cell_type": "code",
   "execution_count": 14,
   "id": "8f0866f1-bda2-4aa1-ab87-05dc818e9391",
   "metadata": {},
   "outputs": [],
   "source": [
    "data = data.loc[data['urlLen'] > 5]"
   ]
  },
  {
   "cell_type": "markdown",
   "id": "d7f741e6-9e63-4453-b6e6-2769ee2cedf2",
   "metadata": {},
   "source": [
    "Let's start to parse the URL strings into features. The URL length is not a good feature since some of the URLs contain a protocol and some don't. Also, some strings have the \"www.\" and some don't and that does will modify the length. "
   ]
  },
  {
   "cell_type": "code",
   "execution_count": 16,
   "id": "7ea77ba6-41b8-43fe-86f7-76305296edcf",
   "metadata": {},
   "outputs": [],
   "source": [
    "data['protocol'] = data['url'].apply(lambda x: x.split('://')[0] if len(x.split('://')) > 1 else \"No Protocol\")"
   ]
  },
  {
   "cell_type": "code",
   "execution_count": 17,
   "id": "e55c73ae-4efe-413d-ba4d-6f1418ec5b75",
   "metadata": {},
   "outputs": [
    {
     "data": {
      "text/plain": [
       "No Protocol                                                                                                      463172\n",
       "http                                                                                                             172317\n",
       "https                                                                                                             15680\n",
       "ftp                                                                                                                   2\n",
       "serviceinformation.pakfreewebs.com/verifier/etap1.html?u=xhxxp                                                        2\n",
       "cristina-sanchez.netne.net/good/etap1.html?u=xhxxp                                                                    2\n",
       "serviceinformation.pakfreewebs.com/verifier/etap1.html?amp;ct=&amp;u=xhxxp                                            1\n",
       "brehautfinancial.com/eBayISAPI.php?signin.ebay.co.uk/ws/eBayISAPI.dll?SignIn&ru=file                                  1\n",
       "www.anita-gd.com/images/?us.battle.net/login/en/?ref=hxxp                                                             1\n",
       "www.anita-gd.com/images?us.battle.net/login/en/?ref=hxxp                                                              1\n",
       "laurent-michel.site90.net/good/etap1.html?u=xhxxp                                                                     1\n",
       "cakollibuilders.com/eBayISAPI/?signin.ebay.co.uk/ws/eBayISAPI.dll?SignIn&amp;ru=file                                  1\n",
       "cakollibuilders.com/eBayISAPI/?signin.ebay.co.uk/ws/eBayISAPI.dll?SignIn&ru=file                                      1\n",
       "filostudios.com/filo2/libraries/joomla/client/eBayISAPI.php?signin.ebay.co.uk/ws/eBayISAPI.dll?SignIn&ru=file         1\n",
       "Name: protocol, dtype: int64"
      ]
     },
     "execution_count": 17,
     "metadata": {},
     "output_type": "execute_result"
    }
   ],
   "source": [
    "data['protocol'].value_counts()"
   ]
  },
  {
   "cell_type": "markdown",
   "id": "0fd6b847-4c1c-475b-bf4a-03b23139c543",
   "metadata": {},
   "source": [
    "Some urls have a \"://\" but in the path, as redirecting or referencing to another url. Let's took that into account when separating protocols:"
   ]
  },
  {
   "cell_type": "code",
   "execution_count": 18,
   "id": "c5e2126b-33fc-445b-8de5-bfd6cdf6f736",
   "metadata": {},
   "outputs": [],
   "source": [
    "data['protocol'] = data['url'].apply(lambda x: x.split('://')[0] if len(x.split('://')) > 1 and len(x.split('://')[0]) < 6 else \"No Protocol\")"
   ]
  },
  {
   "cell_type": "code",
   "execution_count": 19,
   "id": "d194cb8c-6d4e-495d-87b1-00e0005e73a1",
   "metadata": {},
   "outputs": [
    {
     "data": {
      "text/plain": [
       "No Protocol    463184\n",
       "http           172317\n",
       "https           15680\n",
       "ftp                 2\n",
       "Name: protocol, dtype: int64"
      ]
     },
     "execution_count": 19,
     "metadata": {},
     "output_type": "execute_result"
    }
   ],
   "source": [
    "data['protocol'].value_counts()"
   ]
  },
  {
   "cell_type": "code",
   "execution_count": 20,
   "id": "845f6031-d097-4a22-9384-432eba00e1a9",
   "metadata": {},
   "outputs": [],
   "source": [
    "data['nProtocol'] = data['protocol'].apply(lambda x: 1 if x == \"http\" else 2 if x == \"https\" else 3 if x == \"ftp\" else 0)"
   ]
  },
  {
   "cell_type": "code",
   "execution_count": 21,
   "id": "bd3d3f92-e876-4b79-a5aa-9449fc034a52",
   "metadata": {},
   "outputs": [
    {
     "data": {
      "text/plain": [
       "0    463184\n",
       "1    172317\n",
       "2     15680\n",
       "3         2\n",
       "Name: nProtocol, dtype: int64"
      ]
     },
     "execution_count": 21,
     "metadata": {},
     "output_type": "execute_result"
    }
   ],
   "source": [
    "data['nProtocol'].value_counts()"
   ]
  },
  {
   "cell_type": "markdown",
   "id": "45cd24b3-c9a7-4983-a100-2d56f71dc776",
   "metadata": {},
   "source": [
    "The next part involves identify and parse the url to obtain domain, subdomain, path and so on. This could be easily done by using functions to identify the patterns on the dataframe url strings (such as ://, www., /, ...) but there is already a library which does that for us, check https://pypi.org/project/tld/ for more:"
   ]
  },
  {
   "cell_type": "code",
   "execution_count": 25,
   "id": "d98d59e4-2071-4e03-9d5f-19436f33083f",
   "metadata": {},
   "outputs": [
    {
     "name": "stdout",
     "output_type": "stream",
     "text": [
      "Defaulting to user installation because normal site-packages is not writeable\n",
      "Collecting tld\n",
      "  Downloading tld-0.12.6-py38-none-any.whl (412 kB)\n",
      "     |████████████████████████████████| 412 kB 2.1 MB/s            \n",
      "\u001b[?25hInstalling collected packages: tld\n",
      "Successfully installed tld-0.12.6\n",
      "Note: you may need to restart the kernel to use updated packages.\n"
     ]
    }
   ],
   "source": [
    "pip install tld"
   ]
  },
  {
   "cell_type": "code",
   "execution_count": 26,
   "id": "ff0cddec-493d-40c2-9d01-29facd27ba6a",
   "metadata": {},
   "outputs": [],
   "source": [
    "from tld import get_tld"
   ]
  },
  {
   "cell_type": "code",
   "execution_count": 42,
   "id": "642c020b-e5e0-4725-bd58-d94a1cef3533",
   "metadata": {},
   "outputs": [],
   "source": [
    "data['topLevDomain'] = data['url'].apply(lambda x: get_tld(x,fail_silently=True))"
   ]
  },
  {
   "cell_type": "code",
   "execution_count": 43,
   "id": "5e3e3055-7bcb-4df1-84ed-9e3a854c5952",
   "metadata": {},
   "outputs": [
    {
     "data": {
      "text/plain": [
       "com       71690\n",
       "de        11331\n",
       "net        9903\n",
       "nl         6157\n",
       "com.br     5925\n",
       "          ...  \n",
       "gov.sa        1\n",
       "tn            1\n",
       "click         1\n",
       "gt            1\n",
       "ht            1\n",
       "Name: topLevDomain, Length: 538, dtype: int64"
      ]
     },
     "execution_count": 43,
     "metadata": {},
     "output_type": "execute_result"
    }
   ],
   "source": [
    "data['topLevDomain'].value_counts()"
   ]
  },
  {
   "cell_type": "code",
   "execution_count": 44,
   "id": "5c8b8a29-ef36-4bea-8fd9-b5b133388532",
   "metadata": {},
   "outputs": [
    {
     "ename": "TypeError",
     "evalue": "object of type 'NoneType' has no len()",
     "output_type": "error",
     "traceback": [
      "\u001b[0;31m---------------------------------------------------------------------------\u001b[0m",
      "\u001b[0;31mTypeError\u001b[0m                                 Traceback (most recent call last)",
      "\u001b[0;32m<ipython-input-44-353b75d4870e>\u001b[0m in \u001b[0;36m<module>\u001b[0;34m\u001b[0m\n\u001b[0;32m----> 1\u001b[0;31m \u001b[0mdata\u001b[0m\u001b[0;34m[\u001b[0m\u001b[0;34m'tldLen'\u001b[0m\u001b[0;34m]\u001b[0m \u001b[0;34m=\u001b[0m \u001b[0mdata\u001b[0m\u001b[0;34m[\u001b[0m\u001b[0;34m'topLevDomain'\u001b[0m\u001b[0;34m]\u001b[0m\u001b[0;34m.\u001b[0m\u001b[0mapply\u001b[0m\u001b[0;34m(\u001b[0m\u001b[0;32mlambda\u001b[0m \u001b[0mx\u001b[0m\u001b[0;34m:\u001b[0m \u001b[0mlen\u001b[0m\u001b[0;34m(\u001b[0m\u001b[0mx\u001b[0m\u001b[0;34m)\u001b[0m\u001b[0;34m)\u001b[0m\u001b[0;34m\u001b[0m\u001b[0;34m\u001b[0m\u001b[0m\n\u001b[0m",
      "\u001b[0;32m~/.local/lib/python3.8/site-packages/pandas/core/series.py\u001b[0m in \u001b[0;36mapply\u001b[0;34m(self, func, convert_dtype, args, **kwargs)\u001b[0m\n\u001b[1;32m   4355\u001b[0m         \u001b[0mdtype\u001b[0m\u001b[0;34m:\u001b[0m \u001b[0mfloat64\u001b[0m\u001b[0;34m\u001b[0m\u001b[0;34m\u001b[0m\u001b[0m\n\u001b[1;32m   4356\u001b[0m         \"\"\"\n\u001b[0;32m-> 4357\u001b[0;31m         \u001b[0;32mreturn\u001b[0m \u001b[0mSeriesApply\u001b[0m\u001b[0;34m(\u001b[0m\u001b[0mself\u001b[0m\u001b[0;34m,\u001b[0m \u001b[0mfunc\u001b[0m\u001b[0;34m,\u001b[0m \u001b[0mconvert_dtype\u001b[0m\u001b[0;34m,\u001b[0m \u001b[0margs\u001b[0m\u001b[0;34m,\u001b[0m \u001b[0mkwargs\u001b[0m\u001b[0;34m)\u001b[0m\u001b[0;34m.\u001b[0m\u001b[0mapply\u001b[0m\u001b[0;34m(\u001b[0m\u001b[0;34m)\u001b[0m\u001b[0;34m\u001b[0m\u001b[0;34m\u001b[0m\u001b[0m\n\u001b[0m\u001b[1;32m   4358\u001b[0m \u001b[0;34m\u001b[0m\u001b[0m\n\u001b[1;32m   4359\u001b[0m     def _reduce(\n",
      "\u001b[0;32m~/.local/lib/python3.8/site-packages/pandas/core/apply.py\u001b[0m in \u001b[0;36mapply\u001b[0;34m(self)\u001b[0m\n\u001b[1;32m   1041\u001b[0m             \u001b[0;32mreturn\u001b[0m \u001b[0mself\u001b[0m\u001b[0;34m.\u001b[0m\u001b[0mapply_str\u001b[0m\u001b[0;34m(\u001b[0m\u001b[0;34m)\u001b[0m\u001b[0;34m\u001b[0m\u001b[0;34m\u001b[0m\u001b[0m\n\u001b[1;32m   1042\u001b[0m \u001b[0;34m\u001b[0m\u001b[0m\n\u001b[0;32m-> 1043\u001b[0;31m         \u001b[0;32mreturn\u001b[0m \u001b[0mself\u001b[0m\u001b[0;34m.\u001b[0m\u001b[0mapply_standard\u001b[0m\u001b[0;34m(\u001b[0m\u001b[0;34m)\u001b[0m\u001b[0;34m\u001b[0m\u001b[0;34m\u001b[0m\u001b[0m\n\u001b[0m\u001b[1;32m   1044\u001b[0m \u001b[0;34m\u001b[0m\u001b[0m\n\u001b[1;32m   1045\u001b[0m     \u001b[0;32mdef\u001b[0m \u001b[0magg\u001b[0m\u001b[0;34m(\u001b[0m\u001b[0mself\u001b[0m\u001b[0;34m)\u001b[0m\u001b[0;34m:\u001b[0m\u001b[0;34m\u001b[0m\u001b[0;34m\u001b[0m\u001b[0m\n",
      "\u001b[0;32m~/.local/lib/python3.8/site-packages/pandas/core/apply.py\u001b[0m in \u001b[0;36mapply_standard\u001b[0;34m(self)\u001b[0m\n\u001b[1;32m   1096\u001b[0m                 \u001b[0;31m# List[Union[Callable[..., Any], str]]]]]\"; expected\u001b[0m\u001b[0;34m\u001b[0m\u001b[0;34m\u001b[0m\u001b[0;34m\u001b[0m\u001b[0m\n\u001b[1;32m   1097\u001b[0m                 \u001b[0;31m# \"Callable[[Any], Any]\"\u001b[0m\u001b[0;34m\u001b[0m\u001b[0;34m\u001b[0m\u001b[0;34m\u001b[0m\u001b[0m\n\u001b[0;32m-> 1098\u001b[0;31m                 mapped = lib.map_infer(\n\u001b[0m\u001b[1;32m   1099\u001b[0m                     \u001b[0mvalues\u001b[0m\u001b[0;34m,\u001b[0m\u001b[0;34m\u001b[0m\u001b[0;34m\u001b[0m\u001b[0m\n\u001b[1;32m   1100\u001b[0m                     \u001b[0mf\u001b[0m\u001b[0;34m,\u001b[0m  \u001b[0;31m# type: ignore[arg-type]\u001b[0m\u001b[0;34m\u001b[0m\u001b[0;34m\u001b[0m\u001b[0m\n",
      "\u001b[0;32m~/.local/lib/python3.8/site-packages/pandas/_libs/lib.pyx\u001b[0m in \u001b[0;36mpandas._libs.lib.map_infer\u001b[0;34m()\u001b[0m\n",
      "\u001b[0;32m<ipython-input-44-353b75d4870e>\u001b[0m in \u001b[0;36m<lambda>\u001b[0;34m(x)\u001b[0m\n\u001b[0;32m----> 1\u001b[0;31m \u001b[0mdata\u001b[0m\u001b[0;34m[\u001b[0m\u001b[0;34m'tldLen'\u001b[0m\u001b[0;34m]\u001b[0m \u001b[0;34m=\u001b[0m \u001b[0mdata\u001b[0m\u001b[0;34m[\u001b[0m\u001b[0;34m'topLevDomain'\u001b[0m\u001b[0;34m]\u001b[0m\u001b[0;34m.\u001b[0m\u001b[0mapply\u001b[0m\u001b[0;34m(\u001b[0m\u001b[0;32mlambda\u001b[0m \u001b[0mx\u001b[0m\u001b[0;34m:\u001b[0m \u001b[0mlen\u001b[0m\u001b[0;34m(\u001b[0m\u001b[0mx\u001b[0m\u001b[0;34m)\u001b[0m\u001b[0;34m)\u001b[0m\u001b[0;34m\u001b[0m\u001b[0;34m\u001b[0m\u001b[0m\n\u001b[0m",
      "\u001b[0;31mTypeError\u001b[0m: object of type 'NoneType' has no len()"
     ]
    }
   ],
   "source": [
    "data['tldLen'] = data['topLevDomain'].apply(lambda x: len(x))"
   ]
  },
  {
   "cell_type": "markdown",
   "id": "864c4f15-2ea6-482d-991b-6d41514bed4e",
   "metadata": {},
   "source": [
    "Ops, it seems that sometimes the output could not be accessed as len, so let's use another strategy:"
   ]
  },
  {
   "cell_type": "code",
   "execution_count": 45,
   "id": "0380bce2-5730-416b-b47a-8ff8cec55552",
   "metadata": {},
   "outputs": [],
   "source": [
    "data['tldLen'] = data['topLevDomain'].apply(lambda x: len(x) if type(x) == str else 0)"
   ]
  },
  {
   "cell_type": "code",
   "execution_count": 46,
   "id": "101b43ce-e24e-4164-80b3-16aba6b86f05",
   "metadata": {},
   "outputs": [
    {
     "data": {
      "text/plain": [
       "0         0\n",
       "1         0\n",
       "2         0\n",
       "3         2\n",
       "4         3\n",
       "         ..\n",
       "651186    0\n",
       "651187    0\n",
       "651188    0\n",
       "651189    0\n",
       "651190    0\n",
       "Name: tldLen, Length: 651183, dtype: int64"
      ]
     },
     "execution_count": 46,
     "metadata": {},
     "output_type": "execute_result"
    }
   ],
   "source": [
    "data['tldLen']"
   ]
  },
  {
   "cell_type": "code",
   "execution_count": 47,
   "id": "b1d43af3-40d3-4b12-be65-5f6d896f8801",
   "metadata": {},
   "outputs": [
    {
     "data": {
      "text/plain": [
       "0     475273\n",
       "3      87519\n",
       "2      58686\n",
       "6      16601\n",
       "5       6203\n",
       "4       5405\n",
       "12       455\n",
       "14       307\n",
       "7        249\n",
       "9        130\n",
       "11       121\n",
       "16        71\n",
       "15        52\n",
       "8         50\n",
       "10        12\n",
       "13        12\n",
       "17         9\n",
       "26         8\n",
       "20         3\n",
       "30         3\n",
       "31         2\n",
       "21         2\n",
       "39         2\n",
       "22         2\n",
       "25         2\n",
       "18         2\n",
       "34         1\n",
       "27         1\n",
       "Name: tldLen, dtype: int64"
      ]
     },
     "execution_count": 47,
     "metadata": {},
     "output_type": "execute_result"
    }
   ],
   "source": [
    "data['tldLen'].value_counts()"
   ]
  },
  {
   "cell_type": "code",
   "execution_count": 57,
   "id": "3d1a7076-b43c-4bb2-9e20-01149d23a9ad",
   "metadata": {},
   "outputs": [
    {
     "data": {
      "text/html": [
       "<div>\n",
       "<style scoped>\n",
       "    .dataframe tbody tr th:only-of-type {\n",
       "        vertical-align: middle;\n",
       "    }\n",
       "\n",
       "    .dataframe tbody tr th {\n",
       "        vertical-align: top;\n",
       "    }\n",
       "\n",
       "    .dataframe thead th {\n",
       "        text-align: right;\n",
       "    }\n",
       "</style>\n",
       "<table border=\"1\" class=\"dataframe\">\n",
       "  <thead>\n",
       "    <tr style=\"text-align: right;\">\n",
       "      <th></th>\n",
       "      <th>url</th>\n",
       "      <th>topLevDomain</th>\n",
       "    </tr>\n",
       "  </thead>\n",
       "  <tbody>\n",
       "    <tr>\n",
       "      <th>35010</th>\n",
       "      <td>http://bancaribe-ve-lb-1328493527.us-east-1.el...</td>\n",
       "      <td>us-east-1.elb.amazonaws.com</td>\n",
       "    </tr>\n",
       "    <tr>\n",
       "      <th>42118</th>\n",
       "      <td>http://www.gfdsr654ree.is-a-financialadvisor.c...</td>\n",
       "      <td>is-a-financialadvisor.com</td>\n",
       "    </tr>\n",
       "    <tr>\n",
       "      <th>103639</th>\n",
       "      <td>http://www.asy645reds.boldlygoingnowhere.org/w...</td>\n",
       "      <td>boldlygoingnowhere.org</td>\n",
       "    </tr>\n",
       "    <tr>\n",
       "      <th>224975</th>\n",
       "      <td>http://s3-eu-west-1.amazonaws.com/video.00aa42...</td>\n",
       "      <td>s3-eu-west-1.amazonaws.com</td>\n",
       "    </tr>\n",
       "    <tr>\n",
       "      <th>242248</th>\n",
       "      <td>http://www.gfdsr654ree.is-a-financialadvisor.c...</td>\n",
       "      <td>is-a-financialadvisor.com</td>\n",
       "    </tr>\n",
       "    <tr>\n",
       "      <th>458348</th>\n",
       "      <td>http://masterlink.s3-website-us-east-1.amazona...</td>\n",
       "      <td>s3-website-us-east-1.amazonaws.com</td>\n",
       "    </tr>\n",
       "    <tr>\n",
       "      <th>464949</th>\n",
       "      <td>http://www.asy645reds.boldlygoingnowhere.org/w...</td>\n",
       "      <td>boldlygoingnowhere.org</td>\n",
       "    </tr>\n",
       "    <tr>\n",
       "      <th>521535</th>\n",
       "      <td>http://autenticasuporte-appitacardrevalidacao-...</td>\n",
       "      <td>sa-east-1.elasticbeanstalk.com</td>\n",
       "    </tr>\n",
       "    <tr>\n",
       "      <th>521536</th>\n",
       "      <td>http://autenticasuporte-appitacardrevalidacao-...</td>\n",
       "      <td>sa-east-1.elasticbeanstalk.com</td>\n",
       "    </tr>\n",
       "    <tr>\n",
       "      <th>521537</th>\n",
       "      <td>http://autenticasuporte-appitacardrevalidacao-...</td>\n",
       "      <td>sa-east-1.elasticbeanstalk.com</td>\n",
       "    </tr>\n",
       "    <tr>\n",
       "      <th>521633</th>\n",
       "      <td>https://www-acesso-seguro.cloud-fr1.unispace.i...</td>\n",
       "      <td>cloud-fr1.unispace.io</td>\n",
       "    </tr>\n",
       "    <tr>\n",
       "      <th>522403</th>\n",
       "      <td>http://qrxhskj.cluster028.hosting.ovh.net/impo...</td>\n",
       "      <td>cluster028.hosting.ovh.net</td>\n",
       "    </tr>\n",
       "    <tr>\n",
       "      <th>522482</th>\n",
       "      <td>https://w2-bb-acesso-online.cloud-fr1.unispace...</td>\n",
       "      <td>cloud-fr1.unispace.io</td>\n",
       "    </tr>\n",
       "    <tr>\n",
       "      <th>523175</th>\n",
       "      <td>http://qrxhskj.cluster028.hosting.ovh.net/impo...</td>\n",
       "      <td>cluster028.hosting.ovh.net</td>\n",
       "    </tr>\n",
       "    <tr>\n",
       "      <th>523273</th>\n",
       "      <td>http://qrxhskj.cluster028.hosting.ovh.net/impo...</td>\n",
       "      <td>cluster028.hosting.ovh.net</td>\n",
       "    </tr>\n",
       "    <tr>\n",
       "      <th>524707</th>\n",
       "      <td>https://8s8cyak8emzp3qvvwmgx5qnqjjr17xltp4haci...</td>\n",
       "      <td>s3.ap-northeast-2.amazonaws.com</td>\n",
       "    </tr>\n",
       "    <tr>\n",
       "      <th>526581</th>\n",
       "      <td>http://qrxhskj.cluster028.hosting.ovh.net/impo...</td>\n",
       "      <td>cluster028.hosting.ovh.net</td>\n",
       "    </tr>\n",
       "    <tr>\n",
       "      <th>529000</th>\n",
       "      <td>http://ec2-3-82-210-25.compute-1.amazonaws.com...</td>\n",
       "      <td>ec2-3-82-210-25.compute-1.amazonaws.com</td>\n",
       "    </tr>\n",
       "    <tr>\n",
       "      <th>529579</th>\n",
       "      <td>http://ec2-3-82-210-25.compute-1.amazonaws.com...</td>\n",
       "      <td>ec2-3-82-210-25.compute-1.amazonaws.com</td>\n",
       "    </tr>\n",
       "    <tr>\n",
       "      <th>530549</th>\n",
       "      <td>https://windowshost404902.s3-ap-southeast-1.am...</td>\n",
       "      <td>s3-ap-southeast-1.amazonaws.com</td>\n",
       "    </tr>\n",
       "    <tr>\n",
       "      <th>540530</th>\n",
       "      <td>https://mybook22.s3-us-west-1.amazonaws.com/DC...</td>\n",
       "      <td>s3-us-west-1.amazonaws.com</td>\n",
       "    </tr>\n",
       "    <tr>\n",
       "      <th>540764</th>\n",
       "      <td>https://bucketstrong.s3-us-west-1.amazonaws.co...</td>\n",
       "      <td>s3-us-west-1.amazonaws.com</td>\n",
       "    </tr>\n",
       "    <tr>\n",
       "      <th>547185</th>\n",
       "      <td>http://textilesld.cluster020.hosting.ovh.net/w...</td>\n",
       "      <td>cluster020.hosting.ovh.net</td>\n",
       "    </tr>\n",
       "  </tbody>\n",
       "</table>\n",
       "</div>"
      ],
      "text/plain": [
       "                                                      url  \\\n",
       "35010   http://bancaribe-ve-lb-1328493527.us-east-1.el...   \n",
       "42118   http://www.gfdsr654ree.is-a-financialadvisor.c...   \n",
       "103639  http://www.asy645reds.boldlygoingnowhere.org/w...   \n",
       "224975  http://s3-eu-west-1.amazonaws.com/video.00aa42...   \n",
       "242248  http://www.gfdsr654ree.is-a-financialadvisor.c...   \n",
       "458348  http://masterlink.s3-website-us-east-1.amazona...   \n",
       "464949  http://www.asy645reds.boldlygoingnowhere.org/w...   \n",
       "521535  http://autenticasuporte-appitacardrevalidacao-...   \n",
       "521536  http://autenticasuporte-appitacardrevalidacao-...   \n",
       "521537  http://autenticasuporte-appitacardrevalidacao-...   \n",
       "521633  https://www-acesso-seguro.cloud-fr1.unispace.i...   \n",
       "522403  http://qrxhskj.cluster028.hosting.ovh.net/impo...   \n",
       "522482  https://w2-bb-acesso-online.cloud-fr1.unispace...   \n",
       "523175  http://qrxhskj.cluster028.hosting.ovh.net/impo...   \n",
       "523273  http://qrxhskj.cluster028.hosting.ovh.net/impo...   \n",
       "524707  https://8s8cyak8emzp3qvvwmgx5qnqjjr17xltp4haci...   \n",
       "526581  http://qrxhskj.cluster028.hosting.ovh.net/impo...   \n",
       "529000  http://ec2-3-82-210-25.compute-1.amazonaws.com...   \n",
       "529579  http://ec2-3-82-210-25.compute-1.amazonaws.com...   \n",
       "530549  https://windowshost404902.s3-ap-southeast-1.am...   \n",
       "540530  https://mybook22.s3-us-west-1.amazonaws.com/DC...   \n",
       "540764  https://bucketstrong.s3-us-west-1.amazonaws.co...   \n",
       "547185  http://textilesld.cluster020.hosting.ovh.net/w...   \n",
       "\n",
       "                                   topLevDomain  \n",
       "35010               us-east-1.elb.amazonaws.com  \n",
       "42118                 is-a-financialadvisor.com  \n",
       "103639                   boldlygoingnowhere.org  \n",
       "224975               s3-eu-west-1.amazonaws.com  \n",
       "242248                is-a-financialadvisor.com  \n",
       "458348       s3-website-us-east-1.amazonaws.com  \n",
       "464949                   boldlygoingnowhere.org  \n",
       "521535           sa-east-1.elasticbeanstalk.com  \n",
       "521536           sa-east-1.elasticbeanstalk.com  \n",
       "521537           sa-east-1.elasticbeanstalk.com  \n",
       "521633                    cloud-fr1.unispace.io  \n",
       "522403               cluster028.hosting.ovh.net  \n",
       "522482                    cloud-fr1.unispace.io  \n",
       "523175               cluster028.hosting.ovh.net  \n",
       "523273               cluster028.hosting.ovh.net  \n",
       "524707          s3.ap-northeast-2.amazonaws.com  \n",
       "526581               cluster028.hosting.ovh.net  \n",
       "529000  ec2-3-82-210-25.compute-1.amazonaws.com  \n",
       "529579  ec2-3-82-210-25.compute-1.amazonaws.com  \n",
       "530549          s3-ap-southeast-1.amazonaws.com  \n",
       "540530               s3-us-west-1.amazonaws.com  \n",
       "540764               s3-us-west-1.amazonaws.com  \n",
       "547185               cluster020.hosting.ovh.net  "
      ]
     },
     "execution_count": 57,
     "metadata": {},
     "output_type": "execute_result"
    }
   ],
   "source": [
    "data[data['tldLen'] > 20][['url','topLevDomain']]"
   ]
  },
  {
   "cell_type": "markdown",
   "id": "fb167fb6-daff-481c-95d6-cc6f4530963c",
   "metadata": {},
   "source": [
    "The tld seems to lost some of the words agains the .com or .net. Let's continue to extract the other parts of the url:"
   ]
  },
  {
   "cell_type": "code",
   "execution_count": 91,
   "id": "6b07c89a-4219-47bd-a42e-77c3861110ba",
   "metadata": {},
   "outputs": [],
   "source": [
    "def getFLD(url):\n",
    "    urlObj = get_tld(url, fail_silently=True, as_object = True)\n",
    "\n",
    "    fld = \"\"\n",
    "    try:\n",
    "        fld = urlObj.fld\n",
    "    except:\n",
    "        fld = \"\"\n",
    "    \n",
    "    return fld\n",
    "data['fullLevDomain'] = data['url'].apply(lambda x: getFLD(x))"
   ]
  },
  {
   "cell_type": "code",
   "execution_count": 92,
   "id": "af63f68b-cefa-4d2e-b11f-bd2da1673dca",
   "metadata": {},
   "outputs": [],
   "source": [
    "def getDomain(url):\n",
    "    urlObj = get_tld(url, fail_silently=True, as_object = True)\n",
    "    \n",
    "    domain = \"\"\n",
    "    try:\n",
    "        domain = urlObj.domain\n",
    "    except:\n",
    "        domain = \"\"\n",
    "    \n",
    "    return domain\n",
    "data['domain'] = data['url'].apply(lambda x: getDomain(x))"
   ]
  },
  {
   "cell_type": "code",
   "execution_count": 105,
   "id": "b5dde990-bb7d-4e49-ab93-6539dda93699",
   "metadata": {},
   "outputs": [],
   "source": [
    "def getSubdomain(url):\n",
    "    urlObj = get_tld(url, fail_silently=True, as_object = True)\n",
    "\n",
    "    subdomain = \"\"\n",
    "    try:\n",
    "        subdomain = urlObj.subdomain\n",
    "    except:\n",
    "        subdomain = \"\"\n",
    "    \n",
    "    return subdomain\n",
    "data['subdomain'] = data['url'].apply(lambda x: getSubdomain(x))"
   ]
  },
  {
   "cell_type": "code",
   "execution_count": 106,
   "id": "7fd75b1a-1d50-4e67-8752-614791bd24f2",
   "metadata": {},
   "outputs": [],
   "source": [
    "data['fldLen'] = data['fullLevDomain'].apply(lambda x: len(x))"
   ]
  },
  {
   "cell_type": "code",
   "execution_count": 107,
   "id": "bb9a9e6f-56d5-4322-b8f9-ad57af292234",
   "metadata": {},
   "outputs": [],
   "source": [
    "data['domainLen'] = data['domain'].apply(lambda x: len(x))"
   ]
  },
  {
   "cell_type": "code",
   "execution_count": 108,
   "id": "0f6cb072-caa3-490f-bf22-6e820e3a33cd",
   "metadata": {},
   "outputs": [],
   "source": [
    "data['subdomainLen'] = data['subdomain'].apply(lambda x: len(x))"
   ]
  },
  {
   "cell_type": "code",
   "execution_count": 109,
   "id": "68ebe45e-aafa-4c2a-8565-88f1b219f3eb",
   "metadata": {},
   "outputs": [],
   "source": [
    "data['pathVector'] = data['url'].apply(lambda x: x.split('://')[-1].split('/'))"
   ]
  },
  {
   "cell_type": "code",
   "execution_count": 110,
   "id": "1824fabb-0f18-40ca-973d-212228c86c41",
   "metadata": {},
   "outputs": [],
   "source": [
    "def mergePathVec(text):\n",
    "    tLen = len(text)\n",
    "    mergedText = \"\"\n",
    "    for i in range (1,tLen):\n",
    "        if i != 1:\n",
    "            mergedText += \"/\"\n",
    "        mergedText += text[i]\n",
    "    return mergedText"
   ]
  },
  {
   "cell_type": "code",
   "execution_count": 111,
   "id": "e9657b01-d015-4688-8b0a-46bbebac4d29",
   "metadata": {},
   "outputs": [],
   "source": [
    "data['path'] = data['pathVector'].apply(mergePathVec)"
   ]
  },
  {
   "cell_type": "code",
   "execution_count": 112,
   "id": "b67e8274-db87-4926-b43b-d5a64205a00b",
   "metadata": {},
   "outputs": [
    {
     "data": {
      "text/plain": [
       "0                                                          \n",
       "1                                   music/krizz_kaliko.html\n",
       "2                                          rexroth/cr/1.htm\n",
       "3         index.php?option=com_content&view=article&id=7...\n",
       "4         index.php?option=com_mailto&tmpl=component&lin...\n",
       "                                ...                        \n",
       "651186                              objects/850/850402.html\n",
       "651187                            xbox-360/1860/Dead-Space/\n",
       "651188                            xbox360/action/deadspace/\n",
       "651189                         wiki/Dead_Space_(video_game)\n",
       "651190                              goth/devilmaycrytonite/\n",
       "Name: path, Length: 651183, dtype: object"
      ]
     },
     "execution_count": 112,
     "metadata": {},
     "output_type": "execute_result"
    }
   ],
   "source": [
    "data['path']"
   ]
  },
  {
   "cell_type": "code",
   "execution_count": 113,
   "id": "c43279c6-9cc2-47fe-9d76-b2ceb1b3ead1",
   "metadata": {},
   "outputs": [
    {
     "data": {
      "text/plain": [
       "                             475273\n",
       "9779                           3984\n",
       "mixh                           2886\n",
       "torcache                       1367\n",
       "olx                            1314\n",
       "                              ...  \n",
       "recome                            1\n",
       "geotecnologia                     1\n",
       "comoeliminardolordecabeza         1\n",
       "ambikadrivingschool               1\n",
       "imatechwiring                     1\n",
       "Name: domain, Length: 13930, dtype: int64"
      ]
     },
     "execution_count": 113,
     "metadata": {},
     "output_type": "execute_result"
    }
   ],
   "source": [
    "data['domain'].value_counts()"
   ]
  },
  {
   "cell_type": "code",
   "execution_count": 114,
   "id": "971a0aab-40f0-40c6-bf73-a4c020d9d7bf",
   "metadata": {},
   "outputs": [
    {
     "data": {
      "text/plain": [
       "                                562301\n",
       "www                              76023\n",
       "mitsui-jyuku                      2879\n",
       "onedrive                           321\n",
       "docs                               275\n",
       "                                 ...  \n",
       "dqx.jp.sx                            1\n",
       "promocao-comprapremiadacielo         1\n",
       "ice-cheer                            1\n",
       "alipay-shengji                       1\n",
       "transvale                            1\n",
       "Name: subdomain, Length: 3410, dtype: int64"
      ]
     },
     "execution_count": 114,
     "metadata": {},
     "output_type": "execute_result"
    }
   ],
   "source": [
    "data['subdomain'].value_counts()"
   ]
  },
  {
   "cell_type": "code",
   "execution_count": 115,
   "id": "70adf969-653b-4221-bb53-14bad7bf116d",
   "metadata": {},
   "outputs": [],
   "source": [
    "data['pathLen'] = data['path'].apply(lambda x: len(x))"
   ]
  },
  {
   "cell_type": "markdown",
   "id": "d46639b2-1db3-444d-91ad-d1af4b65b826",
   "metadata": {},
   "source": [
    "There are other features that can be added here not only taking into account the length of the parsed url. We can look at features such as: number of letters, number of numbers, number of slashes /, number of dots ., number of parameters &, number of fragments #, number of upper and lower case letters and others. Let's filter the URL to avoid including the 'http(s)' and 'www.' in the length of the url when counting each number of features studied, since they are not important and will mess the counting. "
   ]
  },
  {
   "cell_type": "code",
   "execution_count": 120,
   "id": "395522e2-fccd-4f3e-bda3-517caabdea1d",
   "metadata": {},
   "outputs": [],
   "source": [
    "data['filteredURL'] = data['url'].apply(lambda x: x.split('://')[0] if len(x.split('://')) < 2 else x.split('://')[1])"
   ]
  },
  {
   "cell_type": "code",
   "execution_count": 124,
   "id": "d3f25d15-1b1d-4f5d-ad63-63f3842ae22f",
   "metadata": {},
   "outputs": [],
   "source": [
    "def filterWWW(url):\n",
    "    if len(url) < 4:\n",
    "        return url\n",
    "    if (url[0] == 'w' and url[1] == 'w' and url[2] == 'w' and url[3] == '.'):\n",
    "        return url[4:]\n",
    "    else:\n",
    "        return url\n",
    "data['filteredURLwww'] = data['filteredURL'].apply(filterWWW)"
   ]
  },
  {
   "cell_type": "code",
   "execution_count": 125,
   "id": "e9838836-002e-4065-9b27-b03c633ea29b",
   "metadata": {},
   "outputs": [
    {
     "data": {
      "text/html": [
       "<div>\n",
       "<style scoped>\n",
       "    .dataframe tbody tr th:only-of-type {\n",
       "        vertical-align: middle;\n",
       "    }\n",
       "\n",
       "    .dataframe tbody tr th {\n",
       "        vertical-align: top;\n",
       "    }\n",
       "\n",
       "    .dataframe thead th {\n",
       "        text-align: right;\n",
       "    }\n",
       "</style>\n",
       "<table border=\"1\" class=\"dataframe\">\n",
       "  <thead>\n",
       "    <tr style=\"text-align: right;\">\n",
       "      <th></th>\n",
       "      <th>url</th>\n",
       "      <th>filteredURL</th>\n",
       "      <th>filteredURLwww</th>\n",
       "    </tr>\n",
       "  </thead>\n",
       "  <tbody>\n",
       "    <tr>\n",
       "      <th>0</th>\n",
       "      <td>br-icloud.com.br</td>\n",
       "      <td>br-icloud.com.br</td>\n",
       "      <td>br-icloud.com.br</td>\n",
       "    </tr>\n",
       "    <tr>\n",
       "      <th>1</th>\n",
       "      <td>mp3raid.com/music/krizz_kaliko.html</td>\n",
       "      <td>mp3raid.com/music/krizz_kaliko.html</td>\n",
       "      <td>mp3raid.com/music/krizz_kaliko.html</td>\n",
       "    </tr>\n",
       "    <tr>\n",
       "      <th>2</th>\n",
       "      <td>bopsecrets.org/rexroth/cr/1.htm</td>\n",
       "      <td>bopsecrets.org/rexroth/cr/1.htm</td>\n",
       "      <td>bopsecrets.org/rexroth/cr/1.htm</td>\n",
       "    </tr>\n",
       "    <tr>\n",
       "      <th>3</th>\n",
       "      <td>http://www.garage-pirenne.be/index.php?option=...</td>\n",
       "      <td>www.garage-pirenne.be/index.php?option=com_con...</td>\n",
       "      <td>garage-pirenne.be/index.php?option=com_content...</td>\n",
       "    </tr>\n",
       "    <tr>\n",
       "      <th>4</th>\n",
       "      <td>http://adventure-nicaragua.net/index.php?optio...</td>\n",
       "      <td>adventure-nicaragua.net/index.php?option=com_m...</td>\n",
       "      <td>adventure-nicaragua.net/index.php?option=com_m...</td>\n",
       "    </tr>\n",
       "    <tr>\n",
       "      <th>...</th>\n",
       "      <td>...</td>\n",
       "      <td>...</td>\n",
       "      <td>...</td>\n",
       "    </tr>\n",
       "    <tr>\n",
       "      <th>651186</th>\n",
       "      <td>xbox360.ign.com/objects/850/850402.html</td>\n",
       "      <td>xbox360.ign.com/objects/850/850402.html</td>\n",
       "      <td>xbox360.ign.com/objects/850/850402.html</td>\n",
       "    </tr>\n",
       "    <tr>\n",
       "      <th>651187</th>\n",
       "      <td>games.teamxbox.com/xbox-360/1860/Dead-Space/</td>\n",
       "      <td>games.teamxbox.com/xbox-360/1860/Dead-Space/</td>\n",
       "      <td>games.teamxbox.com/xbox-360/1860/Dead-Space/</td>\n",
       "    </tr>\n",
       "    <tr>\n",
       "      <th>651188</th>\n",
       "      <td>www.gamespot.com/xbox360/action/deadspace/</td>\n",
       "      <td>www.gamespot.com/xbox360/action/deadspace/</td>\n",
       "      <td>gamespot.com/xbox360/action/deadspace/</td>\n",
       "    </tr>\n",
       "    <tr>\n",
       "      <th>651189</th>\n",
       "      <td>en.wikipedia.org/wiki/Dead_Space_(video_game)</td>\n",
       "      <td>en.wikipedia.org/wiki/Dead_Space_(video_game)</td>\n",
       "      <td>en.wikipedia.org/wiki/Dead_Space_(video_game)</td>\n",
       "    </tr>\n",
       "    <tr>\n",
       "      <th>651190</th>\n",
       "      <td>www.angelfire.com/goth/devilmaycrytonite/</td>\n",
       "      <td>www.angelfire.com/goth/devilmaycrytonite/</td>\n",
       "      <td>angelfire.com/goth/devilmaycrytonite/</td>\n",
       "    </tr>\n",
       "  </tbody>\n",
       "</table>\n",
       "<p>651183 rows × 3 columns</p>\n",
       "</div>"
      ],
      "text/plain": [
       "                                                      url  \\\n",
       "0                                        br-icloud.com.br   \n",
       "1                     mp3raid.com/music/krizz_kaliko.html   \n",
       "2                         bopsecrets.org/rexroth/cr/1.htm   \n",
       "3       http://www.garage-pirenne.be/index.php?option=...   \n",
       "4       http://adventure-nicaragua.net/index.php?optio...   \n",
       "...                                                   ...   \n",
       "651186            xbox360.ign.com/objects/850/850402.html   \n",
       "651187       games.teamxbox.com/xbox-360/1860/Dead-Space/   \n",
       "651188         www.gamespot.com/xbox360/action/deadspace/   \n",
       "651189      en.wikipedia.org/wiki/Dead_Space_(video_game)   \n",
       "651190          www.angelfire.com/goth/devilmaycrytonite/   \n",
       "\n",
       "                                              filteredURL  \\\n",
       "0                                        br-icloud.com.br   \n",
       "1                     mp3raid.com/music/krizz_kaliko.html   \n",
       "2                         bopsecrets.org/rexroth/cr/1.htm   \n",
       "3       www.garage-pirenne.be/index.php?option=com_con...   \n",
       "4       adventure-nicaragua.net/index.php?option=com_m...   \n",
       "...                                                   ...   \n",
       "651186            xbox360.ign.com/objects/850/850402.html   \n",
       "651187       games.teamxbox.com/xbox-360/1860/Dead-Space/   \n",
       "651188         www.gamespot.com/xbox360/action/deadspace/   \n",
       "651189      en.wikipedia.org/wiki/Dead_Space_(video_game)   \n",
       "651190          www.angelfire.com/goth/devilmaycrytonite/   \n",
       "\n",
       "                                           filteredURLwww  \n",
       "0                                        br-icloud.com.br  \n",
       "1                     mp3raid.com/music/krizz_kaliko.html  \n",
       "2                         bopsecrets.org/rexroth/cr/1.htm  \n",
       "3       garage-pirenne.be/index.php?option=com_content...  \n",
       "4       adventure-nicaragua.net/index.php?option=com_m...  \n",
       "...                                                   ...  \n",
       "651186            xbox360.ign.com/objects/850/850402.html  \n",
       "651187       games.teamxbox.com/xbox-360/1860/Dead-Space/  \n",
       "651188             gamespot.com/xbox360/action/deadspace/  \n",
       "651189      en.wikipedia.org/wiki/Dead_Space_(video_game)  \n",
       "651190              angelfire.com/goth/devilmaycrytonite/  \n",
       "\n",
       "[651183 rows x 3 columns]"
      ]
     },
     "execution_count": 125,
     "metadata": {},
     "output_type": "execute_result"
    }
   ],
   "source": [
    "data[['url','filteredURL','filteredURLwww']]"
   ]
  },
  {
   "cell_type": "code",
   "execution_count": 130,
   "id": "569f0638-bd76-4795-abb5-601570ab723f",
   "metadata": {},
   "outputs": [],
   "source": [
    "def countLetters(url):\n",
    "    n = 0\n",
    "    for l in url:\n",
    "        if l.isalpha():\n",
    "            n += 1\n",
    "    return n\n",
    "\n",
    "def countNumbers(url):\n",
    "    n = 0\n",
    "    for l in url:\n",
    "        if l.isdigit():\n",
    "            n += 1\n",
    "    return n\n",
    "\n",
    "def countSlashes(url):\n",
    "    n = 0\n",
    "    for l in url:\n",
    "        if l == '/':\n",
    "            n += 1\n",
    "    return n\n",
    "\n",
    "def countDots(url):\n",
    "    n = 0\n",
    "    for l in url:\n",
    "        if l == '.':\n",
    "            n += 1\n",
    "    return n\n",
    "\n",
    "def countParameters(url):\n",
    "    n = 0\n",
    "    for l in url:\n",
    "        if l == '&':\n",
    "            n += 1\n",
    "    return n\n",
    "\n",
    "def countFragments(url):\n",
    "    n = 0\n",
    "    for l in url:\n",
    "        if l == '#':\n",
    "            n += 1\n",
    "    return n\n",
    "\n",
    "def countPercents(url):\n",
    "    n = 0\n",
    "    for l in url:\n",
    "        if l == '%':\n",
    "            n += 1\n",
    "    return n\n",
    "\n",
    "def countUpper(url):\n",
    "    n = 0\n",
    "    for l in url:\n",
    "        if l.isupper():\n",
    "            n += 1\n",
    "    return n\n",
    "\n",
    "def countLower(url):\n",
    "    n = 0\n",
    "    for l in url:\n",
    "        if l.islower():\n",
    "            n += 1\n",
    "    return n\n",
    "\n",
    "data['nLetters'] = data['filteredURLwww'].apply(countLetters)\n",
    "data['nNumbers'] = data['filteredURLwww'].apply(countNumbers)\n",
    "data['nSlashes'] = data['filteredURLwww'].apply(countSlashes)\n",
    "data['nDots'] = data['filteredURLwww'].apply(countDots)\n",
    "data['nPars'] = data['filteredURLwww'].apply(countParameters)\n",
    "data['nFrag'] = data['filteredURLwww'].apply(countFragments)\n",
    "data['nPercent'] = data['filteredURLwww'].apply(countPercents)\n",
    "data['nUpper'] = data['filteredURLwww'].apply(countUpper)\n",
    "data['nLower'] = data['filteredURLwww'].apply(countLower)"
   ]
  },
  {
   "cell_type": "code",
   "execution_count": 131,
   "id": "1b73e517-8fe1-44ca-8a04-eb402352a1c1",
   "metadata": {},
   "outputs": [],
   "source": [
    "data['length'] = data['filteredURLwww'].apply(lambda x: len(x))"
   ]
  },
  {
   "cell_type": "code",
   "execution_count": 137,
   "id": "f6327b96-d87d-4f83-a8f6-de1b50724d3e",
   "metadata": {},
   "outputs": [],
   "source": [
    "data['fullLevDomain'] = data['url'].apply(lambda x: getFLD(x))\n",
    "data['domain'] = data['url'].apply(lambda x: getDomain(x))\n",
    "data['subdomain'] = data['url'].apply(lambda x: getSubdomain(x))\n",
    "data['fldLen'] = data['url'].apply(lambda x: len(x))\n",
    "data['domainLen'] = data['url'].apply(lambda x: len(x))\n",
    "data['subdomainLen'] = data['url'].apply(lambda x: len(x))"
   ]
  },
  {
   "cell_type": "markdown",
   "id": "c1c77e6d-1817-4f01-a115-b60386a49faf",
   "metadata": {},
   "source": [
    "After extracting a lot of features we can start taking a look at their information and shapes"
   ]
  },
  {
   "cell_type": "code",
   "execution_count": 141,
   "id": "fb709614-55c0-4cfa-904d-d1077c7ee5ac",
   "metadata": {},
   "outputs": [
    {
     "data": {
      "text/plain": [
       "Text(0.5, 1.0, 'Path Length')"
      ]
     },
     "execution_count": 141,
     "metadata": {},
     "output_type": "execute_result"
    },
    {
     "data": {
      "image/png": "[encoded data removed]",
      "text/plain": [
       "<Figure size 1080x1440 with 6 Axes>"
      ]
     },
     "metadata": {
      "needs_background": "light"
     },
     "output_type": "display_data"
    }
   ],
   "source": [
    "fig, axes = plt.subplots(3,2, figsize=(15, 20), sharey=False)\n",
    "sns.boxplot(ax=axes[0, 0], x='type', y='length', data=data)\n",
    "axes[0, 0].set_title('Filtered URL Length')\n",
    "sns.boxplot(ax=axes[0, 1], x='type', y='tldLen', data=data)\n",
    "axes[0, 1].set_title('Top-Level Domain Length')\n",
    "sns.boxplot(ax=axes[1, 0], x='type', y='fldLen', data=data)\n",
    "axes[1, 0].set_title('Full Length Domain Length')\n",
    "sns.boxplot(ax=axes[1, 1], x='type', y='domainLen', data=data)\n",
    "axes[1, 1].set_title('Domain Length')\n",
    "sns.boxplot(ax=axes[2, 0], x='type', y='subdomainLen', data=data)\n",
    "axes[2, 0].set_title('Subdomain Length')\n",
    "sns.boxplot(ax=axes[2, 1], x='type', y='pathLen', data=data)\n",
    "axes[2, 1].set_title('Path Length')"
   ]
  },
  {
   "cell_type": "markdown",
   "id": "cf9123bf-b506-4069-9431-e9991cc02377",
   "metadata": {},
   "source": [
    "Some distributions are very different for each type or url, but in general defacement have a longer length in all attributes. Also, the Top-Level Domain length show a very different behaviour between benign urls and the malicious ones."
   ]
  },
  {
   "cell_type": "code",
   "execution_count": 143,
   "id": "a976c1cc-ffde-433f-aa06-429ed791a23c",
   "metadata": {},
   "outputs": [
    {
     "data": {
      "text/plain": [
       "Text(0.5, 1.0, '# Lower case')"
      ]
     },
     "execution_count": 143,
     "metadata": {},
     "output_type": "execute_result"
    },
    {
     "data": {
      "image/png": "[encoded data removed]",
      "text/plain": [
       "<Figure size 1080x1440 with 9 Axes>"
      ]
     },
     "metadata": {
      "needs_background": "light"
     },
     "output_type": "display_data"
    }
   ],
   "source": [
    "fig, axes = plt.subplots(3,3, figsize=(15, 20), sharey=False)\n",
    "sns.boxplot(ax=axes[0, 0], x='type', y='nLetters', data=data)\n",
    "axes[0, 0].set_title('# Letters')\n",
    "sns.boxplot(ax=axes[0, 1], x='type', y='nNumbers', data=data)\n",
    "axes[0, 1].set_title('# Numbers')\n",
    "sns.boxplot(ax=axes[0, 2], x='type', y='nSlashes', data=data)\n",
    "axes[0, 2].set_title('# Slashes')\n",
    "sns.boxplot(ax=axes[1, 0], x='type', y='nDots', data=data)\n",
    "axes[1, 0].set_title('# Dots')\n",
    "sns.boxplot(ax=axes[1, 1], x='type', y='nPars', data=data)\n",
    "axes[1, 1].set_title('# Parameters')\n",
    "sns.boxplot(ax=axes[1, 2], x='type', y='nFrag', data=data)\n",
    "axes[1, 2].set_title('# Fragments')\n",
    "sns.boxplot(ax=axes[2, 0], x='type', y='nPercent', data=data)\n",
    "axes[2, 0].set_title('# Percents')\n",
    "sns.boxplot(ax=axes[2, 1], x='type', y='nUpper', data=data)\n",
    "axes[2, 1].set_title('# Upper case')\n",
    "sns.boxplot(ax=axes[2, 2], x='type', y='nLower', data=data)\n",
    "axes[2, 2].set_title('# Lower case')"
   ]
  },
  {
   "cell_type": "markdown",
   "id": "5eea32eb-dca8-47e9-b965-9ef4418cb7d2",
   "metadata": {},
   "source": [
    "Malwares seems to clearly have a greater number of dots and numbers in their urls. Let's use these parameters to train a decision tree model"
   ]
  },
  {
   "cell_type": "code",
   "execution_count": 152,
   "id": "baccd217-6b9b-41ed-9d74-ff6afc1e8d60",
   "metadata": {},
   "outputs": [],
   "source": [
    "from sklearn.model_selection import train_test_split\n",
    "from sklearn.tree import DecisionTreeClassifier\n",
    "from sklearn.ensemble import RandomForestClassifier\n",
    "from sklearn import metrics"
   ]
  },
  {
   "cell_type": "code",
   "execution_count": 153,
   "id": "775d59bf-3e5d-4b77-903a-fbe67eb8acde",
   "metadata": {},
   "outputs": [],
   "source": [
    "y = data['type']\n",
    "x = data[['length','tldLen','fldLen','domainLen','subdomainLen','pathLen','nLetters',\n",
    "          'nNumbers','nSlashes','nDots','nPars','nFrag','nPercent','nUpper','nLower']]\n",
    "\n",
    "x_Train,x_t,y_Train,y_t = train_test_split(x,y,test_size=0.3,random_state=1)"
   ]
  },
  {
   "cell_type": "code",
   "execution_count": 155,
   "id": "b28857af-0e5e-4aa9-842e-47d0b9ffdb80",
   "metadata": {},
   "outputs": [
    {
     "name": "stdout",
     "output_type": "stream",
     "text": [
      "METRICS:\n",
      "              precision    recall  f1-score   support\n",
      "\n",
      "      benign       0.97      0.97      0.97    128451\n",
      "  defacement       0.96      0.96      0.96     28920\n",
      "     malware       0.93      0.94      0.94      9647\n",
      "    phishing       0.85      0.81      0.83     28337\n",
      "\n",
      "    accuracy                           0.95    195355\n",
      "   macro avg       0.93      0.92      0.92    195355\n",
      "weighted avg       0.95      0.95      0.95    195355\n",
      "\n",
      "Confusion Matrix:\n",
      "[[125022    182    116   3131]\n",
      " [   203  27875    191    651]\n",
      " [    57    131   9050    409]\n",
      " [  4093    969    344  22931]]\n",
      "Confusion Matrix (%):\n",
      "[[0.973 0.001 0.001 0.024]\n",
      " [0.007 0.964 0.007 0.023]\n",
      " [0.006 0.014 0.938 0.042]\n",
      " [0.144 0.034 0.012 0.809]]\n"
     ]
    }
   ],
   "source": [
    "treeModel = DecisionTreeClassifier()\n",
    "treeModel.fit(x_Train, y_Train)\n",
    "pred = treeModel.predict(x_t)\n",
    "\n",
    "print('METRICS:')\n",
    "print(metrics.classification_report(y_t,pred))\n",
    "confMat = metrics.confusion_matrix(y_t,pred)\n",
    "print(\"Confusion Matrix:\")\n",
    "print(confMat)           \n",
    "print(\"Confusion Matrix (%):\")\n",
    "np.set_printoptions(formatter={'float': lambda x: \"{0:0.3f}\".format(x)})\n",
    "print(confMat/confMat.astype(float).sum(axis=1,keepdims=True))"
   ]
  },
  {
   "cell_type": "markdown",
   "id": "55770a0a-c87b-492a-a9a3-b3b93c64c354",
   "metadata": {},
   "source": [
    "The trained model could differentiate the three classes in a very good way:\n",
    "1) The benign urls were identified correctly in 97.3% of the cases, being more similar to the phishing in 2.4% of the cases\n",
    "2) The defacment urls were identified correctly in 96.4% of the cases and only 0.7% would have been identified as benign (which is the worst case scenario: not blocking a malicious url independently of the class)\n",
    "3) The malware urls were identified correctly in 93.8% of the cases and only 0.6% would have been identified as benign\n",
    "4) The phishing urls were identified correctly in 80.9% of the cases and in this case 14.4% were wrongly labeled as benign. More improvements would be necessary to separate better the phishing pages from the benign "
   ]
  },
  {
   "cell_type": "code",
   "execution_count": null,
   "id": "7cbdf992-d2e7-43e3-80c2-5cd62ff2403d",
   "metadata": {},
   "outputs": [],
   "source": []
  }
 ],
 "metadata": {
  "kernelspec": {
   "display_name": "Python 3",
   "language": "python",
   "name": "python3"
  },
  "language_info": {
   "codemirror_mode": {
    "name": "ipython",
    "version": 3
   },
   "file_extension": ".py",
   "mimetype": "text/x-python",
   "name": "python",
   "nbconvert_exporter": "python",
   "pygments_lexer": "ipython3",
   "version": "3.8.10"
  }
 },
 "nbformat": 4,
 "nbformat_minor": 5
}
